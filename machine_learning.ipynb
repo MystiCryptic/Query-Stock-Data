{
  "nbformat": 4,
  "nbformat_minor": 0,
  "metadata": {
    "colab": {
      "name": "machine_learning.ipynb",
      "provenance": [],
      "collapsed_sections": [],
      "authorship_tag": "ABX9TyPg9nW0FadwcM2DT8saecln",
      "include_colab_link": true
    },
    "kernelspec": {
      "name": "python3",
      "display_name": "Python 3"
    },
    "language_info": {
      "name": "python"
    }
  },
  "cells": [
    {
      "cell_type": "markdown",
      "metadata": {
        "id": "view-in-github",
        "colab_type": "text"
      },
      "source": [
        "<a href=\"https://colab.research.google.com/github/Epic-Coder10/Query-Stock-Data/blob/master/machine_learning.ipynb\" target=\"_parent\"><img src=\"https://colab.research.google.com/assets/colab-badge.svg\" alt=\"Open In Colab\"/></a>"
      ]
    },
    {
      "cell_type": "code",
      "metadata": {
        "id": "9jUB_lrVsYmn"
      },
      "source": [
        "import spacy.cli\n",
        "spacy.cli.download(\"en_core_web_lg\")\n",
        "import en_core_web_lg\n",
        "import pandas as pd\n",
        "\n",
        "def process_text(text):\n",
        "    doc1 = nlp(text.lower())\n",
        "    processed_text = []\n",
        "    for token in doc1:\n",
        "        if token.text in nlp.Defaults.stop_words:\n",
        "            continue\n",
        "        if token.is_punct:\n",
        "            continue\n",
        "        if token.lemma_ == '-PRON-':\n",
        "            continue\n",
        "        processed_text.append(token.lemma_)\n",
        "    return nlp(\" \".join(processed_text))\n",
        "\n",
        "nlp = spacy.load('en_core_web_lg')\n",
        "\n",
        "df = pd.read_csv('movies_metadata.csv', nrows=10000)\n",
        "\n",
        "\n",
        "result = process_text(df.set_index('original_title').loc['Mission: Impossible - Ghost Protocol', 'overview'])\n",
        "\n",
        "df =  df[['original_title','overview','genres']]\n",
        "\n",
        "df['baseline'] = result\n",
        "\n",
        "doc = nlp(result)\n",
        "\n",
        "# doc\n",
        "\n",
        "# result2 = process_text(df.set_index('original_title').loc['The Underneath', 'overview'])\n",
        "\n",
        "# print(result2)\n",
        "# overview_list = df['overview'].values.tolist()\n",
        "df['preproc'] = df['overview'].apply(process_text)\n",
        "df['score']=df.apply(lambda x: x['preproc'].similarity(nlp(str(x['baseline']))),axis=1)\n",
        "df = df.sort_values(by='score',ascending=False)\n",
        "\n",
        "# df\n",
        "\n",
        "df2 = df.iloc[0:4]\n",
        "  \n",
        "# show the dataframe\n",
        "df2\n"
      ],
      "execution_count": null,
      "outputs": []
    },
    {
      "cell_type": "code",
      "metadata": {
        "colab": {
          "base_uri": "https://localhost:8080/"
        },
        "id": "2TUsd6mW7_vi",
        "outputId": "fb269ab0-73c4-4c98-d589-05773ffea120"
      },
      "source": [
        "overview_list = df2['genres'].values.tolist()\n",
        "print(overview_list)"
      ],
      "execution_count": null,
      "outputs": [
        {
          "output_type": "stream",
          "name": "stdout",
          "text": [
            "[\"[{'id': 28, 'name': 'Action'}, {'id': 53, 'name': 'Thriller'}, {'id': 12, 'name': 'Adventure'}]\", \"[{'id': 878, 'name': 'Science Fiction'}, {'id': 53, 'name': 'Thriller'}]\", \"[{'id': 53, 'name': 'Thriller'}, {'id': 28, 'name': 'Action'}, {'id': 80, 'name': 'Crime'}]\", \"[{'id': 35, 'name': 'Comedy'}, {'id': 28, 'name': 'Action'}, {'id': 12, 'name': 'Adventure'}]\"]\n"
          ]
        }
      ]
    }
  ]
}